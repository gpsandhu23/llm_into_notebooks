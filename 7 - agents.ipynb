{
 "cells": [
  {
   "cell_type": "markdown",
   "id": "1e7e636c-3282-490a-80ef-720013e926ae",
   "metadata": {},
   "source": [
    "## Introduction\n",
    "This notebook is designed to guide you through the process of building an AI agent using Langchain. This will actually put it all together from the previous lessons"
   ]
  },
  {
   "cell_type": "code",
   "execution_count": 1,
   "id": "de435180-ea59-4230-a417-0c5744474d05",
   "metadata": {},
   "outputs": [
    {
     "data": {
      "text/plain": [
       "True"
      ]
     },
     "execution_count": 1,
     "metadata": {},
     "output_type": "execute_result"
    }
   ],
   "source": [
    "from dotenv import load_dotenv\n",
    "import os\n",
    "\n",
    "# Load environment variables from .env file\n",
    "load_dotenv()"
   ]
  },
  {
   "cell_type": "markdown",
   "id": "7389b341-27fb-4987-b9fe-c3f04a9a7e9f",
   "metadata": {},
   "source": [
    "#### Setup custom tools\n",
    "Let's add the two custom tools we defined in the last notebook: url retriever and summarizer"
   ]
  },
  {
   "cell_type": "code",
   "execution_count": 2,
   "id": "645e0f79-1362-4099-832c-48c3b29c5b5d",
   "metadata": {},
   "outputs": [
    {
     "name": "stderr",
     "output_type": "stream",
     "text": [
      "WARNING:root:USER_AGENT environment variable not set, consider setting it to identify your requests.\n"
     ]
    }
   ],
   "source": [
    "from langchain_community.document_loaders import WebBaseLoader\n",
    "from langchain.tools import tool\n",
    "\n",
    "@tool\n",
    "def fetch_url_content(url: str) -> str:\n",
    "    \"\"\"Use this tool to fetch content of a URL\"\"\"\n",
    "    loader = WebBaseLoader(url)\n",
    "    docs = loader.load()\n",
    "    return docs"
   ]
  },
  {
   "cell_type": "code",
   "execution_count": 3,
   "id": "3262bbb6-582d-40de-b55b-6575f165cc5f",
   "metadata": {},
   "outputs": [],
   "source": [
    "from langchain_core.messages import HumanMessage, SystemMessage\n",
    "from langchain_core.output_parsers import StrOutputParser\n",
    "from langchain_anthropic import ChatAnthropic\n",
    "\n",
    "@tool\n",
    "def summarize_content(content: str) -> str:\n",
    "    \"\"\"Always use this tool to generate the summary of a text based content. This model is optimized for summarization\"\"\"\n",
    "    system_message = \"Please provide a concise summary for the content\"\n",
    "    human_message = \"Content: \" + str(content)\n",
    "    \n",
    "    messages = [\n",
    "        SystemMessage(content=system_message),\n",
    "        HumanMessage(content=human_message),\n",
    "    ]\n",
    "    model = ChatAnthropic(model=\"claude-3-haiku-20240229\")\n",
    "    parser = StrOutputParser()\n",
    "    \n",
    "    chain = model | parser\n",
    "    summary = chain.invoke(messages)\n",
    "    return summary"
   ]
  },
  {
   "cell_type": "code",
   "execution_count": 4,
   "id": "b30eb958-c4d9-439d-bd24-fe42a458beba",
   "metadata": {},
   "outputs": [],
   "source": [
    "# Let's add both of these custom tools to the tools that we want to provide to our agent\n",
    "tools = [fetch_url_content, summarize_content]"
   ]
  },
  {
   "cell_type": "code",
   "execution_count": 5,
   "id": "26c4f150-a63a-4fad-8310-977417b50d55",
   "metadata": {},
   "outputs": [],
   "source": [
    "# Let's add the model we want to use for the agent. This is the LLM that acts as the brain of the agent. It is a good idea to use the highest quality model you can use.\n",
    "from langchain_openai import ChatOpenAI\n",
    "model = ChatOpenAI(model=\"gpt-4o\")"
   ]
  },
  {
   "cell_type": "markdown",
   "id": "bac71860-9cda-4533-9e87-cfd48c30c69b",
   "metadata": {},
   "source": [
    "#### Let's add the agent now that can use the tools\n",
    "We will use a simple ReAct agent from Langgraph. At the time of this writing, Langchain is trying to get devs to start using Langgraph for agent development and away from the existing agent types from the core library"
   ]
  },
  {
   "cell_type": "code",
   "execution_count": 6,
   "id": "942b3c94-e166-4943-9860-d0f157312795",
   "metadata": {},
   "outputs": [],
   "source": [
    "from langgraph.prebuilt import create_react_agent\n",
    "\n",
    "agent_executor = create_react_agent(model, tools)"
   ]
  },
  {
   "cell_type": "code",
   "execution_count": 7,
   "id": "16c35adf-45f8-4c2b-8ded-e43e4a02686a",
   "metadata": {},
   "outputs": [
    {
     "data": {
      "text/plain": [
       "{'messages': [HumanMessage(content='hi!', id='d18574e4-eb17-4a4c-97c6-242fbfc4f410'),\n",
       "  AIMessage(content='Hello! How can I assist you today?', response_metadata={'token_usage': {'completion_tokens': 10, 'prompt_tokens': 86, 'total_tokens': 96}, 'model_name': 'gpt-4o', 'system_fingerprint': 'fp_319be4768e', 'finish_reason': 'stop', 'logprobs': None}, id='run-4fcf143c-c288-4266-a18f-f31a775fb96f-0', usage_metadata={'input_tokens': 86, 'output_tokens': 10, 'total_tokens': 96})]}"
      ]
     },
     "execution_count": 7,
     "metadata": {},
     "output_type": "execute_result"
    }
   ],
   "source": [
    "agent_executor.invoke({\"messages\": [HumanMessage(content=\"hi!\")]})"
   ]
  },
  {
   "cell_type": "code",
   "execution_count": null,
   "id": "cc2f7070-16fa-4ef0-a82a-fbc539fdfe30",
   "metadata": {},
   "outputs": [],
   "source": [
    "# Now let's ask it to summarize the content of a URL\n",
    "# The speed on LLMs is meaured in terms of the tokens per minute it can produce. Since this is a large blog post, the LLM will take a while to read and summarize it\n",
    "response = agent_executor.invoke({\"messages\": [HumanMessage(content=\"can you please summarize the content of this url https://lilianweng.github.io/posts/2023-06-23-agent/\")]})\n",
    "response[\"messages\"]"
   ]
  }
 ],
 "metadata": {
  "kernelspec": {
   "display_name": "Python 3 (ipykernel)",
   "language": "python",
   "name": "python3"
  },
  "language_info": {
   "codemirror_mode": {
    "name": "ipython",
    "version": 3
   },
   "file_extension": ".py",
   "mimetype": "text/x-python",
   "name": "python",
   "nbconvert_exporter": "python",
   "pygments_lexer": "ipython3",
   "version": "3.11.5"
  }
 },
 "nbformat": 4,
 "nbformat_minor": 5
}
