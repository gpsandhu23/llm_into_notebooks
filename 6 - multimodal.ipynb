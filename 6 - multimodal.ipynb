{
 "cells": [
  {
   "cell_type": "markdown",
   "id": "88de21f8-b41f-464c-a2e4-a1638171bee6",
   "metadata": {},
   "source": [
    "## Introduction\n",
    "This notebook is designed to guide you through the process of building a Large Language Model (LLM) application using Langchain and OpenAI's GPT-4 multimodal capability. This model can also understand images"
   ]
  },
  {
   "cell_type": "code",
   "execution_count": 1,
   "id": "b0d497db-d5e1-4985-9784-847811ed4008",
   "metadata": {},
   "outputs": [
    {
     "data": {
      "text/plain": [
       "True"
      ]
     },
     "execution_count": 1,
     "metadata": {},
     "output_type": "execute_result"
    }
   ],
   "source": [
    "from dotenv import load_dotenv\n",
    "import os\n",
    "\n",
    "# Load environment variables from .env file\n",
    "load_dotenv()"
   ]
  },
  {
   "cell_type": "code",
   "execution_count": 2,
   "id": "c481120e-4321-4db0-82d9-178a09bc58c1",
   "metadata": {},
   "outputs": [],
   "source": [
    "image_url = \"https://systemsarchitect.io/assets/images/diagram-app-structural-flow-b0cc18c0e4efee46b1ecc0db9f40cde1.png\""
   ]
  },
  {
   "cell_type": "code",
   "execution_count": 3,
   "id": "36a594c3-4605-4be9-bc18-e36dd2533ad6",
   "metadata": {},
   "outputs": [],
   "source": [
    "from langchain_core.messages import HumanMessage\n",
    "from langchain_openai import ChatOpenAI\n",
    "\n",
    "model = ChatOpenAI(model=\"gpt-4o\")"
   ]
  },
  {
   "cell_type": "code",
   "execution_count": null,
   "id": "12595add-f58b-4816-816f-fc1ec2188173",
   "metadata": {},
   "outputs": [],
   "source": [
    "message = HumanMessage(\n",
    "    content=[\n",
    "        {\"type\": \"text\", \"text\": \"describe the architecture diagram in the image\"},\n",
    "        {\"type\": \"image_url\", \"image_url\": {\"url\": image_url}},\n",
    "    ],\n",
    ")\n",
    "response = model.invoke([message])\n",
    "print(response.content)"
   ]
  }
 ],
 "metadata": {
  "kernelspec": {
   "display_name": "Python 3 (ipykernel)",
   "language": "python",
   "name": "python3"
  },
  "language_info": {
   "codemirror_mode": {
    "name": "ipython",
    "version": 3
   },
   "file_extension": ".py",
   "mimetype": "text/x-python",
   "name": "python",
   "nbconvert_exporter": "python",
   "pygments_lexer": "ipython3",
   "version": "3.11.5"
  }
 },
 "nbformat": 4,
 "nbformat_minor": 5
}
