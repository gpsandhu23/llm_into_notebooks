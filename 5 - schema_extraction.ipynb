{
 "cells": [
  {
   "cell_type": "markdown",
   "id": "33b99b7e-20b1-4d61-9a12-246672063f2f",
   "metadata": {},
   "source": [
    "## Introduction\n",
    "This notebook is designed to guide you through the process of building a schema extraction application using Langchain and OpenAI's GPT-4 LLM. Schema extraction involves identifying and extracting structured information from unstructured text, which can be particularly useful in understanding and organizing data in a more accessible format."
   ]
  },
  {
   "cell_type": "code",
   "execution_count": 1,
   "id": "9f985c79-35d2-43da-92b5-037ac26f1090",
   "metadata": {},
   "outputs": [
    {
     "data": {
      "text/plain": [
       "True"
      ]
     },
     "execution_count": 1,
     "metadata": {},
     "output_type": "execute_result"
    }
   ],
   "source": [
    "from dotenv import load_dotenv\n",
    "import os\n",
    "\n",
    "# Load environment variables from .env file\n",
    "load_dotenv()"
   ]
  },
  {
   "cell_type": "code",
   "execution_count": 2,
   "id": "974ec04b-b3ba-4bf7-89bd-e4b257ba7ab6",
   "metadata": {},
   "outputs": [],
   "source": [
    "from typing import List, Optional\n",
    "\n",
    "from langchain_core.pydantic_v1 import BaseModel, Field\n",
    "\n",
    "\n",
    "class Agent_Feature(BaseModel):\n",
    "    \"\"\"Information about feature of AI agents. AI Agents are a really amazing capability. It consists of various features, this defines those features\"\"\"\n",
    "\n",
    "    # ^ Doc-string for the entity Agent_Feature.\n",
    "    # This doc-string is sent to the LLM as the description of the schema Agent_Feature,\n",
    "    # and it can help to improve extraction results.\n",
    "\n",
    "    # Note that:\n",
    "    # 1. Each field is an `optional` -- this allows the model to decline to extract it!\n",
    "    # 2. Each field has a `description` -- this description is used by the LLM.\n",
    "    # Having a good description can help improve extraction results.\n",
    "    name: Optional[str] = Field(default=None, description=\"The name of the agent feature\")\n",
    "    definition: Optional[str] = Field(default=None, description=\"A concise definition of this feature of AI agents\")\n",
    "\n",
    "\n",
    "class Data(BaseModel):\n",
    "    \"\"\"Extracted data about AI Agent Features.\"\"\"\n",
    "\n",
    "    # Creates a model so that we can extract multiple entities.\n",
    "    features: List[Agent_Feature]"
   ]
  },
  {
   "cell_type": "code",
   "execution_count": 3,
   "id": "bf9e374c-8850-4748-bd72-f4e8bb878571",
   "metadata": {},
   "outputs": [],
   "source": [
    "from typing import Optional\n",
    "\n",
    "from langchain_core.prompts import ChatPromptTemplate, MessagesPlaceholder\n",
    "from langchain_core.pydantic_v1 import BaseModel, Field\n",
    "\n",
    "\n",
    "prompt = ChatPromptTemplate.from_messages(\n",
    "    [\n",
    "        (\n",
    "            \"system\",\n",
    "            \"You are an expert extraction algorithm. \"\n",
    "            \"Only extract relevant information from the text. \"\n",
    "            \"If you do not know the value of an attribute asked to extract, \"\n",
    "            \"return null for the attribute's value.\",\n",
    "        ),\n",
    "        (\"human\", \"{text}\"),\n",
    "    ]\n",
    ")"
   ]
  },
  {
   "cell_type": "code",
   "execution_count": 4,
   "id": "8f668ee5-4ae8-45d9-9a2b-e2e4a8c02dce",
   "metadata": {},
   "outputs": [],
   "source": [
    "from langchain_openai import ChatOpenAI\n",
    "model = ChatOpenAI(model=\"gpt-4o\")"
   ]
  },
  {
   "cell_type": "code",
   "execution_count": 8,
   "id": "f26f948c-a239-4d4c-b863-b16fe000b2f0",
   "metadata": {},
   "outputs": [
    {
     "data": {
      "text/plain": [
       "Data(features=[Agent_Feature(name='Tool use', definition='A key capability of AI agents. It lets the agent invoke methods that can call APIs, read docs, perform actions, etc.')])"
      ]
     },
     "execution_count": 8,
     "metadata": {},
     "output_type": "execute_result"
    }
   ],
   "source": [
    "runnable = prompt | model.with_structured_output(schema=Data)\n",
    "text = \"Tool use a key capability of AI agents. It let's the agent invoke methods that can calls APIs, read docs, perform actions, etc.\"\n",
    "runnable.invoke({\"text\": text})"
   ]
  },
  {
   "cell_type": "code",
   "execution_count": 6,
   "id": "c9a1d623-4330-4e92-98a4-e56e62923f31",
   "metadata": {},
   "outputs": [
    {
     "name": "stderr",
     "output_type": "stream",
     "text": [
      "WARNING:root:USER_AGENT environment variable not set, consider setting it to identify your requests.\n"
     ]
    }
   ],
   "source": [
    "from langchain_community.document_loaders import WebBaseLoader\n",
    "url = \"https://lilianweng.github.io/posts/2023-06-23-agent/\"\n",
    "loader = WebBaseLoader(url)\n",
    "docs = loader.load()"
   ]
  },
  {
   "cell_type": "code",
   "execution_count": 7,
   "id": "50f3052a-70d8-43a2-8609-1019aaddf7d2",
   "metadata": {},
   "outputs": [
    {
     "data": {
      "text/plain": [
       "Data(features=[Agent_Feature(name='Planning', definition='The agent breaks down large tasks into smaller, manageable subgoals, enables efficient handling of complex tasks, and can self-reflect and refine actions based on past performance.'), Agent_Feature(name='Memory', definition='The agent retains and recalls information over extended periods. It is divided into short-term memory (in-context learning) and long-term memory (external vector store for fast retrieval).'), Agent_Feature(name='Tool Use', definition='The agent calls external APIs for additional information, code execution, and access to proprietary data sources, extending its capabilities beyond the pre-trained model.')])"
      ]
     },
     "execution_count": 7,
     "metadata": {},
     "output_type": "execute_result"
    }
   ],
   "source": [
    "runnable.invoke({\"text\": docs})"
   ]
  },
  {
   "cell_type": "code",
   "execution_count": null,
   "id": "8a104965-c2ee-404f-a5c2-c64bee517db1",
   "metadata": {},
   "outputs": [],
   "source": []
  }
 ],
 "metadata": {
  "kernelspec": {
   "display_name": "Python 3 (ipykernel)",
   "language": "python",
   "name": "python3"
  },
  "language_info": {
   "codemirror_mode": {
    "name": "ipython",
    "version": 3
   },
   "file_extension": ".py",
   "mimetype": "text/x-python",
   "name": "python",
   "nbconvert_exporter": "python",
   "pygments_lexer": "ipython3",
   "version": "3.11.5"
  }
 },
 "nbformat": 4,
 "nbformat_minor": 5
}
