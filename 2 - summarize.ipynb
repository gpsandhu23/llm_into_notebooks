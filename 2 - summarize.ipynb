{
 "cells": [
  {
   "cell_type": "markdown",
   "id": "9d5b71c9-dacd-49e0-bb4b-c98398b0396a",
   "metadata": {},
   "source": [
    "## Introduction\n",
    "This notebook is designed to guide you through the process of building a Language Learning Model (LLM) application that creates a summary of the content from a URL. It uses Langchain and OpenAI's GPT-4 LLM. \n",
    "\n",
    "#### URL ---> Content (docs) ---> LLM ---> Summary\n",
    "\n",
    "The process involves fetching the content from a specified URL, processing the content to extract relevant information, and then using an LLM to generate a concise summary. This notebook will walk you through each step of this process, providing detailed explanations and examples."
   ]
  },
  {
   "cell_type": "code",
   "execution_count": 1,
   "id": "b7c62033-83b5-4da6-bf51-cdb56a8b5d63",
   "metadata": {},
   "outputs": [
    {
     "data": {
      "text/plain": [
       "True"
      ]
     },
     "execution_count": 1,
     "metadata": {},
     "output_type": "execute_result"
    }
   ],
   "source": [
    "from dotenv import load_dotenv\n",
    "import os\n",
    "\n",
    "# Load environment variables from .env file\n",
    "load_dotenv()"
   ]
  },
  {
   "cell_type": "markdown",
   "id": "9e3fcf02-0c68-4f1b-88fb-47a553625536",
   "metadata": {},
   "source": [
    "#### Document loaders\n",
    "Document loaders are a capability LangChain provides to get content that can be used for LLM apps. They are essential for fetching and preparing the content before summarization. In this example, we will use a WebBaseLoader to load content from a specified URL."
   ]
  },
  {
   "cell_type": "code",
   "execution_count": 4,
   "id": "a088d492-3e46-4680-8f5a-aa587986a26b",
   "metadata": {},
   "outputs": [],
   "source": [
    "# Load content from a URL, the entire post is actually worth reading\n",
    "from langchain_community.document_loaders import WebBaseLoader\n",
    "url = \"https://lilianweng.github.io/posts/2023-06-23-agent/\"\n",
    "loader = WebBaseLoader(url)\n",
    "docs = loader.load()"
   ]
  },
  {
   "cell_type": "code",
   "execution_count": 5,
   "id": "e945fc53-e94e-4a52-b017-d9d601b1a6a1",
   "metadata": {},
   "outputs": [],
   "source": [
    "from langchain_openai import ChatOpenAI\n",
    "model = ChatOpenAI(model=\"gpt-4o\")"
   ]
  },
  {
   "cell_type": "code",
   "execution_count": 7,
   "id": "b5c4b662-6117-4732-9f08-838bf0b21ad1",
   "metadata": {},
   "outputs": [
    {
     "data": {
      "text/plain": [
       "'The document \"LLM Powered Autonomous Agents\" by Lilian Weng discusses the construction of autonomous agents using large language models (LLMs) as their core controllers. It outlines the essential components of such systems, including planning, memory, and tool use. Key concepts include task decomposition, self-reflection, and external tool integration for improved functionality. The article reviews various methodologies, such as Chain of Thought, Tree of Thoughts, and Algorithm Distillation, for enhancing LLM performance. It also explores case studies like ChemCrow and generative agents simulation, along with challenges like finite context length and reliability of natural language interfaces. The document includes references, comparisons of memory search algorithms, and real-world application examples like AutoGPT and GPT-Engineer.'"
      ]
     },
     "execution_count": 7,
     "metadata": {},
     "output_type": "execute_result"
    }
   ],
   "source": [
    "from langchain_core.messages import HumanMessage, SystemMessage\n",
    "from langchain_core.output_parsers import StrOutputParser\n",
    "\n",
    "system_message = \"Please provide a concise summary for the content\"\n",
    "human_message = \"Content: \" + str(docs)\n",
    "\n",
    "messages = [\n",
    "    SystemMessage(content=system_message),\n",
    "    HumanMessage(content=human_message),\n",
    "]\n",
    "\n",
    "parser = StrOutputParser()\n",
    "\n",
    "chain = model | parser\n",
    "# Let's pass the system and human message to the LLM API and invoke it\n",
    "chain.invoke(messages)"
   ]
  },
  {
   "cell_type": "code",
   "execution_count": null,
   "id": "29b5d965-e130-43b7-b103-2036c0443377",
   "metadata": {},
   "outputs": [],
   "source": []
  }
 ],
 "metadata": {
  "kernelspec": {
   "display_name": "Python 3 (ipykernel)",
   "language": "python",
   "name": "python3"
  },
  "language_info": {
   "codemirror_mode": {
    "name": "ipython",
    "version": 3
   },
   "file_extension": ".py",
   "mimetype": "text/x-python",
   "name": "python",
   "nbconvert_exporter": "python",
   "pygments_lexer": "ipython3",
   "version": "3.11.5"
  }
 },
 "nbformat": 4,
 "nbformat_minor": 5
}
